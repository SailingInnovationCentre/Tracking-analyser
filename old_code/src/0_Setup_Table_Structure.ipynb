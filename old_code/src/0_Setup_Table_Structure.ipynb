{
 "cells": [
  {
   "cell_type": "markdown",
   "metadata": {
    "toc": true
   },
   "source": [
    "<h1>Table of Contents<span class=\"tocSkip\"></span></h1>\n",
    "<div class=\"toc\"><ul class=\"toc-item\"><li><span><a href=\"#Define-all-table-structures-and-relations\" data-toc-modified-id=\"Define-all-table-structures-and-relations-1\"><span class=\"toc-item-num\">1&nbsp;&nbsp;</span>Define all table structures and relations</a></span></li><li><span><a href=\"#Tables\" data-toc-modified-id=\"Tables-2\"><span class=\"toc-item-num\">2&nbsp;&nbsp;</span>Tables</a></span><ul class=\"toc-item\"><li><span><a href=\"#regattas\" data-toc-modified-id=\"regattas-2.1\"><span class=\"toc-item-num\">2.1&nbsp;&nbsp;</span>regattas</a></span></li><li><span><a href=\"#races\" data-toc-modified-id=\"races-2.2\"><span class=\"toc-item-num\">2.2&nbsp;&nbsp;</span>races</a></span></li><li><span><a href=\"#competitors\" data-toc-modified-id=\"competitors-2.3\"><span class=\"toc-item-num\">2.3&nbsp;&nbsp;</span>competitors</a></span></li><li><span><a href=\"#windsources-&amp;-wind\" data-toc-modified-id=\"windsources-&amp;-wind-2.4\"><span class=\"toc-item-num\">2.4&nbsp;&nbsp;</span>windsources &amp; wind</a></span></li><li><span><a href=\"#legs\" data-toc-modified-id=\"legs-2.5\"><span class=\"toc-item-num\">2.5&nbsp;&nbsp;</span>legs</a></span></li><li><span><a href=\"#race_comp\" data-toc-modified-id=\"race_comp-2.6\"><span class=\"toc-item-num\">2.6&nbsp;&nbsp;</span>race_comp</a></span></li><li><span><a href=\"#comp_leg\" data-toc-modified-id=\"comp_leg-2.7\"><span class=\"toc-item-num\">2.7&nbsp;&nbsp;</span>comp_leg</a></span></li><li><span><a href=\"#positions\" data-toc-modified-id=\"positions-2.8\"><span class=\"toc-item-num\">2.8&nbsp;&nbsp;</span>positions</a></span></li><li><span><a href=\"#courses\" data-toc-modified-id=\"courses-2.9\"><span class=\"toc-item-num\">2.9&nbsp;&nbsp;</span>courses</a></span></li><li><span><a href=\"#marks\" data-toc-modified-id=\"marks-2.10\"><span class=\"toc-item-num\">2.10&nbsp;&nbsp;</span>marks</a></span></li><li><span><a href=\"#marks_positions\" data-toc-modified-id=\"marks_positions-2.11\"><span class=\"toc-item-num\">2.11&nbsp;&nbsp;</span>marks_positions</a></span></li><li><span><a href=\"#course_areas\" data-toc-modified-id=\"course_areas-2.12\"><span class=\"toc-item-num\">2.12&nbsp;&nbsp;</span>course_areas</a></span></li><li><span><a href=\"#sailing_style\" data-toc-modified-id=\"sailing_style-2.13\"><span class=\"toc-item-num\">2.13&nbsp;&nbsp;</span>sailing_style</a></span></li><li><span><a href=\"#temp_markpassings\" data-toc-modified-id=\"temp_markpassings-2.14\"><span class=\"toc-item-num\">2.14&nbsp;&nbsp;</span>temp_markpassings</a></span></li><li><span><a href=\"#Temp\" data-toc-modified-id=\"Temp-2.15\"><span class=\"toc-item-num\">2.15&nbsp;&nbsp;</span>Temp</a></span></li></ul></li></ul></div>"
   ]
  },
  {
   "cell_type": "markdown",
   "metadata": {},
   "source": [
    "# Define all table structures and relations"
   ]
  },
  {
   "cell_type": "code",
   "execution_count": 11,
   "metadata": {},
   "outputs": [],
   "source": [
    "import pyodbc\n",
    "\n",
    "server = 'sic-match-analysis.database.windows.net'\n",
    "database = 'match-analysis'\n",
    "username = 'sic-admin'\n",
    "password = 'ZeilenIsLeuk!'\n",
    "driver= '{ODBC Driver 17 for SQL Server}'\n",
    "cnxn = pyodbc.connect('DRIVER='+driver+';SERVER='+server+';PORT=1433;DATABASE='+database+';UID='+username+';PWD='+ password)\n",
    "\n",
    "\n",
    "cursor = cnxn.cursor()"
   ]
  },
  {
   "cell_type": "markdown",
   "metadata": {},
   "source": [
    "# Tables"
   ]
  },
  {
   "cell_type": "markdown",
   "metadata": {},
   "source": [
    "## regattas"
   ]
  },
  {
   "cell_type": "code",
   "execution_count": 4,
   "metadata": {},
   "outputs": [
    {
     "ename": "ProgrammingError",
     "evalue": "('42S01', \"[42S01] [Microsoft][ODBC Driver 17 for SQL Server][SQL Server]There is already an object named 'regattas' in the database. (2714) (SQLExecDirectW)\")",
     "output_type": "error",
     "traceback": [
      "\u001b[1;31m---------------------------------------------------------------------------\u001b[0m",
      "\u001b[1;31mProgrammingError\u001b[0m                          Traceback (most recent call last)",
      "\u001b[1;32m<ipython-input-4-23a2525150fa>\u001b[0m in \u001b[0;36m<module>\u001b[1;34m\u001b[0m\n\u001b[0;32m      8\u001b[0m \u001b[0mCREATE\u001b[0m \u001b[0mINDEX\u001b[0m \u001b[0midx\u001b[0m \u001b[0mON\u001b[0m \u001b[0mregattas\u001b[0m \u001b[1;33m(\u001b[0m\u001b[0mregatta\u001b[0m\u001b[1;33m)\u001b[0m\u001b[1;33m;\u001b[0m\u001b[1;33m\u001b[0m\u001b[1;33m\u001b[0m\u001b[0m\n\u001b[0;32m      9\u001b[0m \u001b[1;33m\u001b[0m\u001b[0m\n\u001b[1;32m---> 10\u001b[1;33m \"\"\")\n\u001b[0m",
      "\u001b[1;31mProgrammingError\u001b[0m: ('42S01', \"[42S01] [Microsoft][ODBC Driver 17 for SQL Server][SQL Server]There is already an object named 'regattas' in the database. (2714) (SQLExecDirectW)\")"
     ]
    }
   ],
   "source": [
    "# TABLE 1\n",
    "cursor.execute(\"\"\"\n",
    "CREATE TABLE regattas\n",
    "(regatta varchar(50) PRIMARY KEY,\n",
    "boatclass varchar(50) NULL,\n",
    "courseAreaId nvarchar(40) NULL)\n",
    "\n",
    "CREATE INDEX idx ON regattas (regatta);\n",
    "\n",
    "\"\"\")"
   ]
  },
  {
   "cell_type": "markdown",
   "metadata": {},
   "source": [
    "## races"
   ]
  },
  {
   "cell_type": "code",
   "execution_count": 7,
   "metadata": {},
   "outputs": [],
   "source": [
    "# TABLE 2\n",
    "cursor.execute(\"\"\"\n",
    "CREATE TABLE races\n",
    "(race_id binary(16) NOT NULL,\n",
    "regatta varchar(50) NOT NULL,\n",
    "race varchar(50) NOT NULL,\n",
    "raceShort varchar(50) NOT NULL,\n",
    "fleet varchar(20),\n",
    "maxWindSpd_kts decimal(10,2) NULL,\n",
    "minWindSpd_kts decimal(10,2) NULL,\n",
    "avgWindDir_deg decimal(10,2) NULL,\n",
    "firstlegbearing_deg decimal(10,2) NULL,\n",
    "course_area_id int NULL,\n",
    "nr_competitors int NULL,\n",
    "[startOfRace-ms] bigint,\n",
    "[endOfRace-ms] bigint,\n",
    "start_wind_dir decimal(5,2)\n",
    ",stl_bearing decimal(5,2)\n",
    ",stl_bearing_diff_wind decimal(5,2)\n",
    ",stl_fav_side varchar(10)\n",
    ",sail_style_id int\n",
    ")\n",
    "\n",
    "CREATE UNIQUE CLUSTERED INDEX idx_rac ON races (race_id);\n",
    "CREATE INDEX idx_reg ON races (regatta);\n",
    "\n",
    "\"\"\")\n"
   ]
  },
  {
   "cell_type": "code",
   "execution_count": 2,
   "metadata": {},
   "outputs": [
    {
     "data": {
      "text/plain": [
       "<pyodbc.Cursor at 0x2307fa40b70>"
      ]
     },
     "execution_count": 2,
     "metadata": {},
     "output_type": "execute_result"
    }
   ],
   "source": []
  },
  {
   "cell_type": "code",
   "execution_count": 69,
   "metadata": {},
   "outputs": [],
   "source": [
    "cursor.execute(\"\"\"\n",
    "ALTER TABLE races\n",
    "   ADD fleet varchar(20)\n",
    ";\n",
    "\"\"\")\n",
    "cursor.commit()"
   ]
  },
  {
   "cell_type": "code",
   "execution_count": 9,
   "metadata": {},
   "outputs": [
    {
     "data": {
      "text/plain": [
       "<pyodbc.Cursor at 0x219c703ae40>"
      ]
     },
     "execution_count": 9,
     "metadata": {},
     "output_type": "execute_result"
    }
   ],
   "source": [
    "# Relation 1\n",
    "cursor.execute(\"\"\"\n",
    "ALTER TABLE races\n",
    "   ADD CONSTRAINT FK_races_regattas FOREIGN KEY (regatta)\n",
    "      REFERENCES regattas (regatta)\n",
    "      ON DELETE CASCADE\n",
    "      ON UPDATE CASCADE\n",
    ";\n",
    "\"\"\")\n",
    "cursor.commit()"
   ]
  },
  {
   "cell_type": "markdown",
   "metadata": {},
   "source": [
    "## competitors"
   ]
  },
  {
   "cell_type": "code",
   "execution_count": 6,
   "metadata": {},
   "outputs": [],
   "source": [
    "# TABLE 3\n",
    "cursor.execute(\"\"\"\n",
    "DROP TABLE competitors\n",
    "CREATE TABLE competitors\n",
    "(regatta varchar(50) NOT NULL,\n",
    "comp_id binary(16) NOT NULL,\n",
    "comp_name varchar(100) NULL,\n",
    "nationality varchar(3) NULL,\n",
    "sailId varchar(10) NULL,\n",
    "[Speed (kts) (Average)] decimal(10,2) NULL,\n",
    "[Speed (kts) (Average) UPWIND] decimal(10,2) NULL,\n",
    "[Speed (kts) (Average) DOWNWIND] decimal(10,2) NULL,\n",
    "[Speed (kts) (Average) REACHING] decimal(10,2) NULL,\n",
    "[Distance Traveled (Sum)] decimal(10,2) NULL,\n",
    "[Distance Traveled (Sum) UPWIND] decimal(10,2) NULL,\n",
    "[Distance Traveled (Sum) DOWNWIND] decimal(10,2) NULL,\n",
    "[Distance Traveled (Sum) REACHING] decimal(10,2) NULL,\n",
    "[Speed (kts) (Average) null] decimal(10,2) NULL,\n",
    "[Distance Traveled (Sum) null] decimal(10,2) NULL,\n",
    "overall_rank int NULL,\n",
    "[Number of Maneuvers (Sum)] decimal(10,2) NULL\n",
    ")\n",
    "\n",
    "CREATE UNIQUE CLUSTERED INDEX idx ON competitors (regatta, comp_id);\n",
    "CREATE INDEX idx_comp ON competitors (comp_id)\n",
    "\"\"\")\n",
    "cursor.commit()"
   ]
  },
  {
   "cell_type": "code",
   "execution_count": 9,
   "metadata": {},
   "outputs": [],
   "source": [
    "# Relation 2\n",
    "cursor.execute(\"\"\"\n",
    "ALTER TABLE competitors\n",
    "   ADD CONSTRAINT FK_comp_regattas FOREIGN KEY (regatta)\n",
    "      REFERENCES regattas (regatta)\n",
    "      ON DELETE CASCADE\n",
    "      ON UPDATE CASCADE\n",
    ";\n",
    "\"\"\")\n",
    "cursor.commit()"
   ]
  },
  {
   "cell_type": "markdown",
   "metadata": {},
   "source": [
    "## windsources & wind"
   ]
  },
  {
   "cell_type": "code",
   "execution_count": 44,
   "metadata": {},
   "outputs": [
    {
     "data": {
      "text/plain": [
       "<pyodbc.Cursor at 0x219c703ae40>"
      ]
     },
     "execution_count": 44,
     "metadata": {},
     "output_type": "execute_result"
    }
   ],
   "source": [
    "cursor.execute(\"\"\" \n",
    "CREATE TABLE windsources (\n",
    "race_id binary(16) NOT NULL\n",
    ",typeName varchar(100) \n",
    ",id varchar(50) NOT NULL\n",
    ",rc bit\n",
    ")\n",
    "\n",
    "CREATE UNIQUE CLUSTERED INDEX idx ON windsources (race_id, typeName, id)\n",
    "\n",
    "ALTER TABLE windsources\n",
    "   ADD CONSTRAINT FK_windsources_races FOREIGN KEY (race_id)\n",
    "      REFERENCES races (race_id)\n",
    "      ON DELETE CASCADE\n",
    "      ON UPDATE CASCADE\n",
    "\"\"\")"
   ]
  },
  {
   "cell_type": "code",
   "execution_count": 60,
   "metadata": {},
   "outputs": [
    {
     "data": {
      "text/plain": [
       "<pyodbc.Cursor at 0x219c703ae40>"
      ]
     },
     "execution_count": 60,
     "metadata": {},
     "output_type": "execute_result"
    }
   ],
   "source": [
    "cursor.execute(\"\"\" \n",
    "CREATE TABLE wind (\n",
    "race_id binary(16) NOT NULL\n",
    ",windSource varchar(100) NOT NULL\n",
    ",windSource_id varchar(50) NULL\n",
    ",[trueBearing-deg] decimal(5,2) NULL\n",
    ",[speed-kts] decimal(5,2) NULL\n",
    ",[speed-m/s] decimal(5,2) NULL\n",
    ",[timepoint-ms] bigint NULL\n",
    ",[dampenedTrueBearing-deg] decimal(5,2) NULL\n",
    ",[dampenedSpeed-kts] decimal(5,2) NULL\n",
    ",[dampenedSpeed-m/s] decimal(5,2) NULL\n",
    ",[lat-deg] decimal(10,7) NULL\n",
    ",[lng-deg] decimal(10,7) NULL\n",
    ")\n",
    "\n",
    "CREATE UNIQUE CLUSTERED INDEX idx ON wind (race_id, windSource, windSource_id, [timepoint-ms])\n",
    "CREATE INDEX idx_race On wind (race_id)\n",
    "\n",
    "ALTER TABLE wind\n",
    "   ADD CONSTRAINT FK_wind_windsources FOREIGN KEY (race_id, windSource, windSource_id)\n",
    "      REFERENCES windsources (race_id, typeName, id)\n",
    "      ON DELETE CASCADE\n",
    "      ON UPDATE CASCADE\n",
    "\"\"\")\n"
   ]
  },
  {
   "cell_type": "code",
   "execution_count": 3,
   "metadata": {},
   "outputs": [
    {
     "data": {
      "text/plain": [
       "<pyodbc.Cursor at 0x19adc72be40>"
      ]
     },
     "execution_count": 3,
     "metadata": {},
     "output_type": "execute_result"
    }
   ],
   "source": []
  },
  {
   "cell_type": "code",
   "execution_count": 61,
   "metadata": {},
   "outputs": [],
   "source": [
    "cursor.commit()"
   ]
  },
  {
   "cell_type": "markdown",
   "metadata": {},
   "source": [
    "## legs"
   ]
  },
  {
   "cell_type": "code",
   "execution_count": 34,
   "metadata": {},
   "outputs": [
    {
     "data": {
      "text/plain": [
       "<pyodbc.Cursor at 0x219c703ae40>"
      ]
     },
     "execution_count": 34,
     "metadata": {},
     "output_type": "execute_result"
    }
   ],
   "source": [
    "# TABLE 5\n",
    "cursor.execute(\"\"\"\n",
    "CREATE TABLE legs\n",
    "(race_id binary(16),\n",
    "leg_nr int NOT NULL,\n",
    "fromWaypointId binary(16) NULL,\n",
    "toWaypointId binary(16) NULL,\n",
    "[to] varchar(20) NULL,\n",
    "[from] varchar(20) NULL,\n",
    "upOrDownwindLeg bit NULL,\n",
    "leg_nr_from_finish int NULL,\n",
    "distance decimal(20,2) NULL,\n",
    "correlation_tacks decimal(5,4),\n",
    "correlation_side decimal(5,4),\n",
    "correlation_avgSOG decimal(5,4),\n",
    "correlation_traveledDistance decimal(5,4),\n",
    "correlation_jibes decimal(5,4),\n",
    "pos_startline_abs_x decimal(4,3)\n",
    ",pos_startline_abs_y decimal(4,3)\n",
    ",pos_startline_rel decimal(4,3)\n",
    ",cor_side_pos_startline_abs decimal(4,3)\n",
    ",cor_side_pos_startline_rel decimal(4,3)\n",
    ",avg_spd decimal(5,3)\n",
    ",[avg_distanceTraveled-m] decimal (6,2)\n",
    ")\n",
    "\n",
    "\n",
    "CREATE UNIQUE CLUSTERED INDEX idx_ ON legs (race_id, leg_nr);\n",
    "CREATE INDEX idx_race ON legs (race_id)\n",
    "\n",
    "\"\"\")"
   ]
  },
  {
   "cell_type": "code",
   "execution_count": 7,
   "metadata": {},
   "outputs": [
    {
     "data": {
      "text/plain": [
       "<pyodbc.Cursor at 0x24e23ff1b70>"
      ]
     },
     "execution_count": 7,
     "metadata": {},
     "output_type": "execute_result"
    }
   ],
   "source": [
    "cursor.execute(\"\"\"\n",
    "ALTER TABLE legs\n",
    "ADD [avg_distanceTraveled-m] decimal (6,2)\n",
    "\n",
    "\"\"\")"
   ]
  },
  {
   "cell_type": "code",
   "execution_count": 8,
   "metadata": {},
   "outputs": [],
   "source": [
    "cursor.commit()"
   ]
  },
  {
   "cell_type": "code",
   "execution_count": 37,
   "metadata": {},
   "outputs": [
    {
     "ename": "ProgrammingError",
     "evalue": "('42S01', \"[42S01] [Microsoft][ODBC Driver 17 for SQL Server][SQL Server]There is already an object named 'FK_legs2_races' in the database. (2714) (SQLExecDirectW); [42S01] [Microsoft][ODBC Driver 17 for SQL Server][SQL Server]Could not create constraint or index. See previous errors. (1750)\")",
     "output_type": "error",
     "traceback": [
      "\u001b[1;31m---------------------------------------------------------------------------\u001b[0m",
      "\u001b[1;31mProgrammingError\u001b[0m                          Traceback (most recent call last)",
      "\u001b[1;32m<ipython-input-37-e2278186d971>\u001b[0m in \u001b[0;36m<module>\u001b[1;34m\u001b[0m\n\u001b[0;32m      7\u001b[0m       \u001b[0mON\u001b[0m \u001b[0mDELETE\u001b[0m \u001b[0mCASCADE\u001b[0m\u001b[1;33m\u001b[0m\u001b[1;33m\u001b[0m\u001b[0m\n\u001b[0;32m      8\u001b[0m       \u001b[0mON\u001b[0m \u001b[0mUPDATE\u001b[0m \u001b[0mCASCADE\u001b[0m\u001b[1;33m\u001b[0m\u001b[1;33m\u001b[0m\u001b[0m\n\u001b[1;32m----> 9\u001b[1;33m \"\"\")\n\u001b[0m",
      "\u001b[1;31mProgrammingError\u001b[0m: ('42S01', \"[42S01] [Microsoft][ODBC Driver 17 for SQL Server][SQL Server]There is already an object named 'FK_legs2_races' in the database. (2714) (SQLExecDirectW); [42S01] [Microsoft][ODBC Driver 17 for SQL Server][SQL Server]Could not create constraint or index. See previous errors. (1750)\")"
     ]
    }
   ],
   "source": [
    "# Relation 4\n",
    "\n",
    "cursor.execute(\"\"\"\n",
    "ALTER TABLE legs\n",
    "   ADD CONSTRAINT FK_legs_races FOREIGN KEY (race_id)\n",
    "      REFERENCES races (race_id)\n",
    "      ON DELETE CASCADE\n",
    "      ON UPDATE CASCADE\n",
    "\"\"\")"
   ]
  },
  {
   "cell_type": "markdown",
   "metadata": {},
   "source": [
    "## race_comp"
   ]
  },
  {
   "cell_type": "code",
   "execution_count": 30,
   "metadata": {},
   "outputs": [
    {
     "data": {
      "text/plain": [
       "<pyodbc.Cursor at 0x219c703ae40>"
      ]
     },
     "execution_count": 30,
     "metadata": {},
     "output_type": "execute_result"
    }
   ],
   "source": [
    "# TABLE 6\n",
    "cursor.execute(\"\"\"\n",
    "DROP TABLE race_comp\n",
    "CREATE TABLE race_comp\n",
    "(race_id binary(16)\n",
    ",comp_id binary(16) NOT NULL\n",
    ",regatta varchar(50) NOT NULL\n",
    ",rank int\n",
    ",pos_startline_abs_x decimal(3, 2)\n",
    ",pos_startline_abs_y decimal(7, 5)\n",
    ",pos_startline_rel decimal(4, 2) NULL)\n",
    "\n",
    "CREATE UNIQUE CLUSTERED INDEX idx ON race_comp (race_id, comp_id);\n",
    "CREATE INDEX idx_race ON race_comp (race_id);\n",
    "CREATE INDEX idx_comp ON race_comp (comp_id);\n",
    "\n",
    "\"\"\")"
   ]
  },
  {
   "cell_type": "code",
   "execution_count": 41,
   "metadata": {},
   "outputs": [],
   "source": [
    "cursor.commit()"
   ]
  },
  {
   "cell_type": "code",
   "execution_count": 31,
   "metadata": {},
   "outputs": [
    {
     "data": {
      "text/plain": [
       "<pyodbc.Cursor at 0x219c703ae40>"
      ]
     },
     "execution_count": 31,
     "metadata": {},
     "output_type": "execute_result"
    }
   ],
   "source": [
    "# Relation 5&6\n",
    "cursor.execute(\"\"\"\n",
    "ALTER TABLE race_comp\n",
    "   ADD CONSTRAINT FK_race_comp_races FOREIGN KEY (race_id)\n",
    "      REFERENCES races (race_id),\n",
    "    CONSTRAINT FK_race_comp_competitors FOREIGN KEY(regatta, comp_id)\n",
    "      REFERENCES competitors (regatta, comp_id)\n",
    "      ON DELETE CASCADE\n",
    "      ON UPDATE CASCADE\n",
    "\"\"\")"
   ]
  },
  {
   "cell_type": "markdown",
   "metadata": {},
   "source": [
    "## comp_leg"
   ]
  },
  {
   "cell_type": "code",
   "execution_count": 39,
   "metadata": {},
   "outputs": [
    {
     "data": {
      "text/plain": [
       "<pyodbc.Cursor at 0x219c703ae40>"
      ]
     },
     "execution_count": 39,
     "metadata": {},
     "output_type": "execute_result"
    }
   ],
   "source": [
    "# TABLE 7\n",
    "cursor.execute(\"\"\"\n",
    "CREATE TABLE comp_leg\n",
    "(race_id binary(16)\n",
    ",leg_nr int NOT NULL,\n",
    "comp_id binary(16) NOT NULL,\n",
    "[competitor_distanceTraveled-m] decimal(10,2) NULL,\n",
    "[competitor_averageSOG-kts] decimal(5,2) NULL,\n",
    "competitor_tacks int NULL,\n",
    "competitor_jibes int NULL,\n",
    "competitor_penaltyCircles int NULL,\n",
    "competitor_rank int NULL,\n",
    "[competitor_gapToLeader-s] decimal(10,2) NULL,\n",
    "[competitor_gapToLeader-m] decimal(10,2) NULL,\n",
    "competitor_started bit NULL,\n",
    "competitor_finished bit NULL,\n",
    "avg_side decimal(5,2) NULL,\n",
    "most_left decimal(5,2) NULL,\n",
    "most_right decimal(5,2) NULL,\n",
    "rel_rank decimal(3,2) NULL,\n",
    "rel_averageSOG decimal (5,3) NULL, \n",
    "rel_distanceTraveled decimal(5,3) NULL\n",
    ")\n",
    "\n",
    "CREATE UNIQUE CLUSTERED INDEX idx ON comp_leg (race_id, leg_nr, comp_id);\n",
    "CREATE INDEX idx_rac_com ON comp_leg (race_id, comp_id);\n",
    "CREATE INDEX idx_leg ON comp_leg (race_id, leg_nr);\n",
    "\n",
    "\"\"\")"
   ]
  },
  {
   "cell_type": "code",
   "execution_count": 9,
   "metadata": {},
   "outputs": [
    {
     "data": {
      "text/plain": [
       "<pyodbc.Cursor at 0x24e23ff1b70>"
      ]
     },
     "execution_count": 9,
     "metadata": {},
     "output_type": "execute_result"
    }
   ],
   "source": [
    "cursor.execute(\"\"\"\n",
    "ALTER TABLE comp_leg\n",
    "ADD rel_averageSOG decimal (5,3) NULL\n",
    "\n",
    "\n",
    "\"\"\")"
   ]
  },
  {
   "cell_type": "code",
   "execution_count": 10,
   "metadata": {},
   "outputs": [],
   "source": [
    "cursor.commit()"
   ]
  },
  {
   "cell_type": "code",
   "execution_count": 40,
   "metadata": {},
   "outputs": [
    {
     "data": {
      "text/plain": [
       "<pyodbc.Cursor at 0x219c703ae40>"
      ]
     },
     "execution_count": 40,
     "metadata": {},
     "output_type": "execute_result"
    }
   ],
   "source": [
    "# Relation 7&8\n",
    "\n",
    "cursor.execute(\"\"\"\n",
    "ALTER TABLE comp_leg\n",
    "   ADD CONSTRAINT FK_comp_leg_race_comp FOREIGN KEY (race_id, comp_id)\n",
    "      REFERENCES race_comp (race_id, comp_id),\n",
    "      CONSTRAINT FK_comp_leg_legs FOREIGN KEY (race_id, leg_nr)\n",
    "      REFERENCES legs (race_id, leg_nr)\n",
    "      ON DELETE CASCADE\n",
    "      ON UPDATE CASCADE\n",
    "\"\"\")"
   ]
  },
  {
   "cell_type": "markdown",
   "metadata": {},
   "source": [
    "## positions"
   ]
  },
  {
   "cell_type": "code",
   "execution_count": 55,
   "metadata": {},
   "outputs": [
    {
     "data": {
      "text/plain": [
       "<pyodbc.Cursor at 0x219c703ae40>"
      ]
     },
     "execution_count": 55,
     "metadata": {},
     "output_type": "execute_result"
    }
   ],
   "source": [
    "# TABLE 8\n",
    "cursor.execute(\"\"\"\n",
    "CREATE TABLE positions\n",
    "(race_id binary(16) NOT NULL\n",
    ",leg_nr int NULL,\n",
    "comp_id binary(16) NOT NULL,\n",
    "timepoint_ms bigint NOT NULL,\n",
    "[lat-deg] decimal(20,10) NULL,\n",
    "[lng-deg] decimal(20,10) NULL,\n",
    "[speed-kts] decimal(10,2) NULL,\n",
    "[truebearing-deg] decimal(10,2) NULL,\n",
    "calculated_windSpd decimal(10,2) NULL,\n",
    "calculated_windDir decimal(10,2) NULL,\n",
    "[rel_spd-kts] decimal(5,3)\n",
    ")\n",
    "\n",
    "CREATE UNIQUE CLUSTERED INDEX idx ON positions (race_id, leg_nr, comp_id, timepoint_ms ASC);\n",
    "CREATE INDEX idx_legnr ON positions (leg_nr) \n",
    "CREATE INDEX idx_leg ON positions (race_id, leg_nr, comp_id);\n",
    "CREATE INDEX idx_comp ON positions (race_id, comp_id)\n",
    "\"\"\")"
   ]
  },
  {
   "cell_type": "code",
   "execution_count": 56,
   "metadata": {},
   "outputs": [
    {
     "data": {
      "text/plain": [
       "<pyodbc.Cursor at 0x219c703ae40>"
      ]
     },
     "execution_count": 56,
     "metadata": {},
     "output_type": "execute_result"
    }
   ],
   "source": [
    "# Relation 9\n",
    "cursor.execute(\"\"\"\n",
    "ALTER TABLE positions\n",
    "   ADD CONSTRAINT FK_positions_race_comp FOREIGN KEY (race_id,  comp_id)\n",
    "      REFERENCES race_comp (race_id,  comp_id)\n",
    "      ON DELETE CASCADE\n",
    "      ON UPDATE CASCADE,\n",
    "   CONSTRAINT FK_positions_comp_leg FOREIGN KEY (race_id, leg_nr, comp_id)\n",
    "     REFERENCES comp_leg (race_id, leg_nr, comp_id)\n",
    "\"\"\")"
   ]
  },
  {
   "cell_type": "markdown",
   "metadata": {},
   "source": [
    "## courses"
   ]
  },
  {
   "cell_type": "code",
   "execution_count": 49,
   "metadata": {},
   "outputs": [
    {
     "data": {
      "text/plain": [
       "<pyodbc.Cursor at 0x219c703ae40>"
      ]
     },
     "execution_count": 49,
     "metadata": {},
     "output_type": "execute_result"
    }
   ],
   "source": [
    "cursor.execute(\"\"\"\n",
    "CREATE TABLE courses (\n",
    "race_id binary(16) NOT NULL\n",
    ",name varchar(50) NULL\n",
    ",passingInstruction varchar(50) NULL\n",
    ",[controlPoint.@class] varchar(50) NULL\n",
    ",[controlPoint.name] varchar(50) NULL\n",
    ",[controlPoint.id] binary(16) NULL\n",
    ",[controlPoint.left.@class]varchar(50) NULL\n",
    ",[controlPoint.left.name] varchar(50) NULL\n",
    ",[controlPoint.left.id] binary(16)NULL\n",
    ",[controlPoint.left.type] varchar(50) NULL\n",
    ",[controlPoint.right.@class]varchar(50) NULL\n",
    ",[controlPoint.right.name] varchar(50) NULL\n",
    ",[controlPoint.right.id] binary(16) NULL\n",
    ",[controlPoint.right.type] varchar(50) NULL\n",
    ",[controlPoint.type] varchar(50) NULL\n",
    ",mark_nr int NOT NULL\n",
    ",mark_nr_from_finish int NULL)\n",
    "\n",
    "CREATE UNIQUE CLUSTERED INDEX idx ON courses (race_id, mark_nr)\n",
    "CREATE INDEX idx_race ON courses (race_id)\n",
    "\n",
    "\n",
    "\"\"\")"
   ]
  },
  {
   "cell_type": "code",
   "execution_count": 50,
   "metadata": {},
   "outputs": [
    {
     "data": {
      "text/plain": [
       "<pyodbc.Cursor at 0x219c703ae40>"
      ]
     },
     "execution_count": 50,
     "metadata": {},
     "output_type": "execute_result"
    }
   ],
   "source": [
    "cursor.execute(\"\"\"\n",
    "ALTER TABLE courses\n",
    "   ADD CONSTRAINT FK_courses_races FOREIGN KEY (race_id)\n",
    "      REFERENCES races (race_id)\n",
    "      ON DELETE CASCADE\n",
    "      ON UPDATE CASCADE\n",
    ";\n",
    "\"\"\")"
   ]
  },
  {
   "cell_type": "code",
   "execution_count": 66,
   "metadata": {},
   "outputs": [],
   "source": [
    "cursor.commit()"
   ]
  },
  {
   "cell_type": "markdown",
   "metadata": {},
   "source": [
    "## marks"
   ]
  },
  {
   "cell_type": "code",
   "execution_count": 46,
   "metadata": {},
   "outputs": [
    {
     "data": {
      "text/plain": [
       "<pyodbc.Cursor at 0x219c703ae40>"
      ]
     },
     "execution_count": 46,
     "metadata": {},
     "output_type": "execute_result"
    }
   ],
   "source": [
    "cursor.execute(\"\"\"\n",
    "CREATE TABLE marks (\n",
    "race_id binary(16) NOT NULL\n",
    ",id binary(16) NOT NULL\n",
    ",name varchar(50) NULL\n",
    ")\n",
    "\n",
    "CREATE UNIQUE CLUSTERED INDEX idx ON marks (race_id, id)\n",
    "CREATE INDEX idx_race ON marks (race_id)\n",
    "\n",
    "\n",
    "\"\"\")"
   ]
  },
  {
   "cell_type": "code",
   "execution_count": 47,
   "metadata": {},
   "outputs": [
    {
     "data": {
      "text/plain": [
       "<pyodbc.Cursor at 0x219c703ae40>"
      ]
     },
     "execution_count": 47,
     "metadata": {},
     "output_type": "execute_result"
    }
   ],
   "source": [
    "# Relation 1\n",
    "\n",
    "cursor.execute(\"\"\"\n",
    "ALTER TABLE marks\n",
    "   ADD CONSTRAINT FK_marks_races FOREIGN KEY (race_id)\n",
    "      REFERENCES races (race_id)\n",
    "      ON DELETE CASCADE\n",
    "      ON UPDATE CASCADE\n",
    ";\"\"\")"
   ]
  },
  {
   "cell_type": "markdown",
   "metadata": {},
   "source": [
    "## marks_positions"
   ]
  },
  {
   "cell_type": "code",
   "execution_count": 64,
   "metadata": {},
   "outputs": [
    {
     "data": {
      "text/plain": [
       "<pyodbc.Cursor at 0x219c703ae40>"
      ]
     },
     "execution_count": 64,
     "metadata": {},
     "output_type": "execute_result"
    }
   ],
   "source": [
    "# TABLE 11\n",
    "cursor.execute(\"\"\"\n",
    "CREATE TABLE marks_positions\n",
    "(race_id binary(16) NOT NULL,\n",
    "id binary(16) NOT NULL,\n",
    "[lat-deg] decimal(10,7) NULL,\n",
    "[lng-deg] decimal(10,7) NULL,\n",
    "[timepoint-ms] bigint,\n",
    ")\n",
    "\n",
    "\n",
    "\n",
    "CREATE UNIQUE CLUSTERED INDEX idx ON marks_positions (race_id, id, [timepoint-ms]);\n",
    "CREATE INDEX idx_mrks ON marks_positions (race_id, id)\n",
    "\n",
    "\"\"\")\n"
   ]
  },
  {
   "cell_type": "code",
   "execution_count": 65,
   "metadata": {},
   "outputs": [
    {
     "data": {
      "text/plain": [
       "<pyodbc.Cursor at 0x219c703ae40>"
      ]
     },
     "execution_count": 65,
     "metadata": {},
     "output_type": "execute_result"
    }
   ],
   "source": [
    "cursor.execute(\"\"\"\n",
    "\n",
    "ALTER TABLE marks_positions\n",
    "   ADD CONSTRAINT FK_marks_positions_marks FOREIGN KEY (race_id,  id)\n",
    "      REFERENCES marks (race_id,  id)\n",
    "      ON DELETE CASCADE\n",
    "      ON UPDATE CASCADE\n",
    ";\"\"\")"
   ]
  },
  {
   "cell_type": "markdown",
   "metadata": {},
   "source": [
    "## course_areas"
   ]
  },
  {
   "cell_type": "code",
   "execution_count": 3,
   "metadata": {},
   "outputs": [
    {
     "data": {
      "text/plain": [
       "<pyodbc.Cursor at 0x171a7edb7b0>"
      ]
     },
     "execution_count": 3,
     "metadata": {},
     "output_type": "execute_result"
    }
   ],
   "source": [
    "cursor.execute(\"\"\"\n",
    "CREATE TABLE course_areas (\n",
    "\tid int,\n",
    "    course_area varchar(20),\n",
    "    [lat-deg] decimal(10,7),\n",
    "    [lng-deg] decimal(10,7)\n",
    "    );\n",
    "\n",
    "CREATE UNIQUE INDEX idx ON course_areas (id)\n",
    "\n",
    "INSERT INTO course_areas(id, course_area, lat, lon)\n",
    "VALUES (1, 'Enoshima', 35.1756, 139.2951),\n",
    "(2, 'Fujisawa',35.1583, 139.2920),\n",
    "(3, 'Kamakura', 35.1744, 139.3079),\n",
    "(4, 'Sagami', 35.1513, 139.3103),\n",
    "(5, 'Zushi', 35.1621, 139.3239),\n",
    "(6, 'Hayama', 35.1441, 139.3285)\n",
    "\"\"\")"
   ]
  },
  {
   "cell_type": "code",
   "execution_count": 53,
   "metadata": {},
   "outputs": [
    {
     "data": {
      "text/plain": [
       "<pyodbc.Cursor at 0x219c703ae40>"
      ]
     },
     "execution_count": 53,
     "metadata": {},
     "output_type": "execute_result"
    }
   ],
   "source": [
    "cursor.execute(\"\"\"\n",
    "ALTER TABLE races\n",
    "ADD CONSTRAINT fk_races_course_areas FOREIGN KEY (course_area_id)\n",
    "      REFERENCES course_areas (id)\n",
    "      ON DELETE CASCADE\n",
    "      ON UPDATE CASCADE\n",
    "\"\"\")"
   ]
  },
  {
   "cell_type": "markdown",
   "metadata": {},
   "source": [
    "## sailing_style"
   ]
  },
  {
   "cell_type": "code",
   "execution_count": null,
   "metadata": {},
   "outputs": [],
   "source": [
    "## create table with types and id's\n",
    "\n",
    "cursor.execute(\"\"\"\n",
    "CREATE TABLE sailing_style\n",
    "(id int NOT NULL\n",
    ",style varchar(50) NOT NULL\n",
    ",tacks_lower decimal(3,2)\n",
    ",tacks_upper decimal(3,2)\n",
    ",side_lower decimal(3,2)\n",
    ",side_upper decimal(3,2)\n",
    ",speed_lower decimal(3,2)\n",
    ",speed_upper decimal(3,2)\n",
    ",distance_lower decimal(3,2)\n",
    ",distance_upper decimal(3,2)\n",
    ")\n",
    "\n",
    "AlTER TABLE races\n",
    "ADD sail_style_id int\n",
    "\n",
    "\n",
    "\n",
    "CREATE UNIQUE CLUSTERED INDEX idx ON sailing_style (id);\n",
    "\n",
    "\n",
    "\n",
    "\"\"\")\n",
    "\n"
   ]
  },
  {
   "cell_type": "code",
   "execution_count": null,
   "metadata": {},
   "outputs": [],
   "source": [
    "cursor.execute(\"\"\"\n",
    "INSERT INTO sailing_style\n",
    "VALUES (1, 'Oscillating', -1, .1, 0, .2, -.1, 0, .5, 1),\n",
    "(2, 'Persistent', .5, 1, .5, 1, -.2, .2, .5, 1),\n",
    "(3, 'Geographical', -.2, .2, .5, 1, -1, -.3, .3, -1),\n",
    "(4, 'Connect Pressure', -.5, 0, 0,.2, -1, -.8, -1, 0),\n",
    "(5, 'Random', 0,0, 0, 0, 0, 0, 0, 0)\n",
    "\"\"\")\n",
    "\n"
   ]
  },
  {
   "cell_type": "markdown",
   "metadata": {},
   "source": [
    "## temp_markpassings"
   ]
  },
  {
   "cell_type": "code",
   "execution_count": null,
   "metadata": {},
   "outputs": [],
   "source": [
    "### Markpassings, to update legnr_columnn in positions\n",
    "\n",
    "cursor.execute(\"\"\"\n",
    "CREATE TABLE temp_markpassings\n",
    "(regatta varchar(50) NOT NULL,\n",
    "race varchar(50) NOT NULL\n",
    ",race_id binary(16)\n",
    "comp_id binar(16) NOT NULL,\n",
    "leg_nr int NOT NULL,\n",
    "begin_leg_ms bigint NULL,\n",
    "end_leg_ms bigint NULL\n",
    "\n",
    ")\n",
    "\n",
    "CREATE UNIQUE INDEX idx ON temp_markpassings (regatta, race, leg_nr, comp_id);\n",
    "CREATE CLUSTERED INDEX idx_2 ON temp_markpassings (regatta, race, comp_id);\n",
    "\n",
    "\"\"\")"
   ]
  },
  {
   "cell_type": "code",
   "execution_count": null,
   "metadata": {},
   "outputs": [],
   "source": [
    "cursor.execute(\"\"\"\n",
    "ALTER TABLE temp_markpassings\n",
    "ADD CONSTRAINT fk_temp_markpassings_comp_leg FOREIGN KEY (regatta, race, leg_nr, comp_id)\n",
    "      REFERENCES comp_leg (regatta, race, leg_nr, comp_id)\n",
    "      ON DELETE CASCADE\n",
    "      ON UPDATE CASCADE\n",
    "\"\"\")"
   ]
  },
  {
   "cell_type": "code",
   "execution_count": null,
   "metadata": {},
   "outputs": [],
   "source": [
    "### Markpassings, to update legnr_columnn in positions\n",
    "\n",
    "cursor.execute(\"\"\"\n",
    "DROP TABLE temp_markpassings\n",
    "CREATE TABLE temp_markpassings\n",
    "(regatta varchar(50) NOT NULL,\n",
    "race varchar(50) NOT NULL\n",
    ",race_id binary(16)\n",
    "comp_id binary(16) NOT NULL,\n",
    "leg_nr int NOT NULL,\n",
    "begin_leg_ms bigint NULL,\n",
    "end_leg_ms bigint NULL\n",
    "\n",
    ")\n",
    "\n",
    "CREATE UNIQUE INDEX idx ON temp_markpassings (regatta, race, leg_nr, comp_id);\n",
    "CREATE CLUSTERED INDEX idx_2 ON temp_markpassings (regatta, race, comp_id);\n",
    "\n",
    "\"\"\")\n",
    "\n",
    "cursor.execute(\"\"\"\n",
    "ALTER TABLE temp_markpassings\n",
    "ADD CONSTRAINT fk_temp_markpassings_comp_leg FOREIGN KEY (regatta, race, leg_nr, comp_id)\n",
    "      REFERENCES comp_leg (regatta, race, leg_nr, comp_id)\n",
    "      ON DELETE CASCADE\n",
    "      ON UPDATE CASCADE\n",
    "\"\"\")"
   ]
  },
  {
   "cell_type": "code",
   "execution_count": 15,
   "metadata": {},
   "outputs": [],
   "source": [
    "cnxn.commit()"
   ]
  },
  {
   "cell_type": "markdown",
   "metadata": {},
   "source": [
    "## Temp\n"
   ]
  },
  {
   "cell_type": "code",
   "execution_count": null,
   "metadata": {},
   "outputs": [],
   "source": [
    "sql = \"\"\"SELECT *\n",
    "FROM INFORMATION_SCHEMA.COLUMNS\n",
    "WHERE TABLE_NAME = N'Customers'\"\"\"\n"
   ]
  },
  {
   "cell_type": "code",
   "execution_count": null,
   "metadata": {},
   "outputs": [],
   "source": [
    "cursor.execute(sql)\n",
    "cursor.commit()"
   ]
  }
 ],
 "metadata": {
  "kernelspec": {
   "display_name": "Python 3",
   "language": "python",
   "name": "python3"
  },
  "language_info": {
   "codemirror_mode": {
    "name": "ipython",
    "version": 3
   },
   "file_extension": ".py",
   "mimetype": "text/x-python",
   "name": "python",
   "nbconvert_exporter": "python",
   "pygments_lexer": "ipython3",
   "version": "3.8.5"
  },
  "toc": {
   "base_numbering": 1,
   "nav_menu": {},
   "number_sections": true,
   "sideBar": true,
   "skip_h1_title": false,
   "title_cell": "Table of Contents",
   "title_sidebar": "Contents",
   "toc_cell": true,
   "toc_position": {
    "height": "calc(100% - 180px)",
    "left": "10px",
    "top": "150px",
    "width": "247.069px"
   },
   "toc_section_display": true,
   "toc_window_display": true
  }
 },
 "nbformat": 4,
 "nbformat_minor": 2
}
