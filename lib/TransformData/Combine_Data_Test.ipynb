{
 "cells": [
  {
   "cell_type": "code",
   "execution_count": 1,
   "metadata": {},
   "outputs": [],
   "source": [
    "import os, sys, inspect, json\n",
    "currentdir = os.path.dirname(os.path.abspath(inspect.getfile(inspect.currentframe())))\n",
    "parentdir = os.path.dirname(currentdir)\n",
    "sys.path.append(parentdir)\n",
    "\n",
    "import numpy as np\n",
    "import pandas as pd\n",
    "import requests\n",
    "import itertools\n",
    "from pandas.io.json import json_normalize\n",
    "import matplotlib.pyplot as plt\n",
    "\n",
    "import Download.download as download\n",
    "from Utilities.converter import *\n",
    "from Utilities.globalVar import *\n"
   ]
  },
  {
   "cell_type": "code",
   "execution_count": 2,
   "metadata": {},
   "outputs": [],
   "source": [
    "class combineData():\n",
    "    def __init__(self, eventSelection = Tokyo2019Test):\n",
    "        self.eventSelection = eventSelection\n",
    "\n",
    "    def combineFiles(self, filenames = AllFilenames):\n",
    "        dataframes = dict([(key,[]) for key in filenames])\n",
    "        dataframes['regattas'] = []\n",
    "        dataframes['races'] = []\n",
    "\n",
    "        for serv in self.eventSelection:\n",
    "            d = download.download(server = serv['name'], regattasContaining = serv['regattaNameContaining'],\\\n",
    "             racesContaining = serv['raceNameContaining'])\n",
    "\n",
    "            regattas = d.getRegattas()\n",
    "            dataframes['regattas'] += regattas\n",
    "            # for regatta in regattas:\n",
    "            #     races = d.getRaces(regatta['name'])\n",
    "            #     dataframes['races'] += races\n",
    "            #     directory_regatta =  r'X:\\TU_Delft\\2_Master\\3_Stage\\2_Code\\SAPDataAnalysis\\\\'+ outdirbase +serv['name'] + regattaLoc(regatta['name'])\n",
    "            #     exclude = set(['races'])\n",
    "            #     for root, dirs, files in os.walk(directory_regatta, topdown=True):\n",
    "            #         dirs[:] = [d for d in dirs if d not in exclude]\n",
    "            #         for fname in files:\n",
    "            #             filepath = root + os.sep + fname\n",
    "            #             filename = os.path.splitext(fname)[0]\n",
    "            #             if filepath.endswith(\".json\") and (filename in filenames):\n",
    "            #                 with open(filepath) as json_file:\n",
    "            #                     print('file extracted: ', filepath, 'in category:')\n",
    "            #                     data = json.load(json_file)\n",
    "            #                 dic_data = {'regatta': regatta['name'], 'data': data}\n",
    "            #                 dataframes[filename].append(dic_data)\n",
    "            #\n",
    "            #\n",
    "            #     for race in d.getRaces(regatta['name']):\n",
    "            #         directory_race = r'X:\\TU_Delft\\2_Master\\3_Stage\\2_Code\\SAPDataAnalysis\\\\'+ outdirbase +serv['name'] + raceLoc(regatta['name'], race['name'])\n",
    "            #         racedata = {}\n",
    "            #         for subdir, dirs, files in os.walk(directory_race):\n",
    "            #             for file in files:\n",
    "            #                 filepath = subdir + os.sep + file\n",
    "            #                 filename = os.path.splitext(file)[0]\n",
    "            #                 if filepath.endswith(\".json\") and (filename in filenames):\n",
    "            #                     with open(filepath) as json_file:\n",
    "            #                         print('file extracted: ', filepath, 'in category:')\n",
    "            #                         data = json.load(json_file)\n",
    "            #                     dic_data = {'regatta': regatta['name'], 'race' : race['name'], 'data': data}\n",
    "            #                     dataframes[filename].append(dic_data)\n",
    "\n",
    "        # print(dataframes['entries'])\n",
    "        for feature, data in dataframes.items():\n",
    "            dataframes[feature] = self.transformJsonToPD(data, feature = feature)\n",
    "\n",
    "        ## don't print dataframes when it containts everything!!\n",
    "        print(dataframes)\n",
    "        return dataframes           ## dictionairy with keys are filenames and pandaframe as value containing everything nicely structured\n",
    "        ### letop entries bevat de algemen en per race specifieke dataframes\n",
    "\n",
    "    def transformJsonToPD(self, data, feature):\n",
    "        if feature == 'regattas':\n",
    "\n",
    "            return None\n",
    "        else:\n",
    "            return pd.DataFrame([])\n"
   ]
  },
  {
   "cell_type": "code",
   "execution_count": 6,
   "metadata": {},
   "outputs": [
    {
     "name": "stdout",
     "output_type": "stream",
     "text": [
      "3.7.1 (default, Dec 10 2018, 22:54:23) [MSC v.1915 64 bit (AMD64)]\n"
     ]
    },
    {
     "ename": "FileNotFoundError",
     "evalue": "[Errno 2] No such file or directory: 'data/raw/tokyo2019/regattas.json'",
     "output_type": "error",
     "traceback": [
      "\u001b[1;31m---------------------------------------------------------------------------\u001b[0m",
      "\u001b[1;31mFileNotFoundError\u001b[0m                         Traceback (most recent call last)",
      "\u001b[1;32m<ipython-input-6-eab92bb7eafe>\u001b[0m in \u001b[0;36m<module>\u001b[1;34m\u001b[0m\n\u001b[0;32m      2\u001b[0m \u001b[1;33m\u001b[0m\u001b[0m\n\u001b[0;32m      3\u001b[0m \u001b[0mc\u001b[0m \u001b[1;33m=\u001b[0m \u001b[0mcombineData\u001b[0m\u001b[1;33m(\u001b[0m\u001b[1;33m)\u001b[0m\u001b[1;33m\u001b[0m\u001b[1;33m\u001b[0m\u001b[0m\n\u001b[1;32m----> 4\u001b[1;33m \u001b[0mdataframes\u001b[0m \u001b[1;33m=\u001b[0m \u001b[0mc\u001b[0m\u001b[1;33m.\u001b[0m\u001b[0mcombineFiles\u001b[0m\u001b[1;33m(\u001b[0m\u001b[0mfilenames\u001b[0m \u001b[1;33m=\u001b[0m \u001b[0mAllFilenames\u001b[0m\u001b[1;33m)\u001b[0m\u001b[1;33m\u001b[0m\u001b[1;33m\u001b[0m\u001b[0m\n\u001b[0m",
      "\u001b[1;32m<ipython-input-2-2e9f2ee7a2ee>\u001b[0m in \u001b[0;36mcombineFiles\u001b[1;34m(self, filenames)\u001b[0m\n\u001b[0;32m     12\u001b[0m              racesContaining = serv['raceNameContaining'])\n\u001b[0;32m     13\u001b[0m \u001b[1;33m\u001b[0m\u001b[0m\n\u001b[1;32m---> 14\u001b[1;33m             \u001b[0mregattas\u001b[0m \u001b[1;33m=\u001b[0m \u001b[0md\u001b[0m\u001b[1;33m.\u001b[0m\u001b[0mgetRegattas\u001b[0m\u001b[1;33m(\u001b[0m\u001b[1;33m)\u001b[0m\u001b[1;33m\u001b[0m\u001b[1;33m\u001b[0m\u001b[0m\n\u001b[0m\u001b[0;32m     15\u001b[0m             \u001b[0mdataframes\u001b[0m\u001b[1;33m[\u001b[0m\u001b[1;34m'regattas'\u001b[0m\u001b[1;33m]\u001b[0m \u001b[1;33m+=\u001b[0m \u001b[0mregattas\u001b[0m\u001b[1;33m\u001b[0m\u001b[1;33m\u001b[0m\u001b[0m\n\u001b[0;32m     16\u001b[0m             \u001b[1;31m# for regatta in regattas:\u001b[0m\u001b[1;33m\u001b[0m\u001b[1;33m\u001b[0m\u001b[1;33m\u001b[0m\u001b[0m\n",
      "\u001b[1;32mX:\\TU_Delft\\2_Master\\3_Stage\\2_Code\\SAPDataAnalysis\\lib\\Download\\download.py\u001b[0m in \u001b[0;36mgetRegattas\u001b[1;34m(self)\u001b[0m\n\u001b[0;32m    131\u001b[0m     \u001b[1;32mdef\u001b[0m \u001b[0mgetRegattas\u001b[0m\u001b[1;33m(\u001b[0m\u001b[0mself\u001b[0m\u001b[1;33m)\u001b[0m\u001b[1;33m:\u001b[0m\u001b[1;33m\u001b[0m\u001b[1;33m\u001b[0m\u001b[0m\n\u001b[0;32m    132\u001b[0m         \u001b[0mloc\u001b[0m \u001b[1;33m=\u001b[0m \u001b[1;34m\"regattas\"\u001b[0m\u001b[1;33m\u001b[0m\u001b[1;33m\u001b[0m\u001b[0m\n\u001b[1;32m--> 133\u001b[1;33m         \u001b[0mregattas\u001b[0m \u001b[1;33m=\u001b[0m \u001b[0mself\u001b[0m\u001b[1;33m.\u001b[0m\u001b[0mgetData\u001b[0m\u001b[1;33m(\u001b[0m\u001b[0mloc\u001b[0m\u001b[1;33m)\u001b[0m\u001b[1;33m\u001b[0m\u001b[1;33m\u001b[0m\u001b[0m\n\u001b[0m\u001b[0;32m    134\u001b[0m         \u001b[0mregattas\u001b[0m\u001b[1;33m[\u001b[0m\u001b[1;33m:\u001b[0m\u001b[1;33m]\u001b[0m \u001b[1;33m=\u001b[0m \u001b[1;33m[\u001b[0m\u001b[0mtup\u001b[0m \u001b[1;32mfor\u001b[0m \u001b[0mtup\u001b[0m \u001b[1;32min\u001b[0m \u001b[0mregattas\u001b[0m \u001b[1;32mif\u001b[0m \u001b[1;33m(\u001b[0m\u001b[0mself\u001b[0m\u001b[1;33m.\u001b[0m\u001b[0mregattasContaining\u001b[0m \u001b[1;32min\u001b[0m \u001b[0mtup\u001b[0m\u001b[1;33m[\u001b[0m\u001b[1;34m'name'\u001b[0m\u001b[1;33m]\u001b[0m\u001b[1;33m)\u001b[0m\u001b[1;33m]\u001b[0m\u001b[1;33m\u001b[0m\u001b[1;33m\u001b[0m\u001b[0m\n\u001b[0;32m    135\u001b[0m         \u001b[1;32mreturn\u001b[0m \u001b[0mregattas\u001b[0m\u001b[1;33m\u001b[0m\u001b[1;33m\u001b[0m\u001b[0m\n",
      "\u001b[1;32mX:\\TU_Delft\\2_Master\\3_Stage\\2_Code\\SAPDataAnalysis\\lib\\Download\\download.py\u001b[0m in \u001b[0;36mgetData\u001b[1;34m(self, loc)\u001b[0m\n\u001b[0;32m    125\u001b[0m     \u001b[1;32mdef\u001b[0m \u001b[0mgetData\u001b[0m\u001b[1;33m(\u001b[0m\u001b[0mself\u001b[0m\u001b[1;33m,\u001b[0m \u001b[0mloc\u001b[0m\u001b[1;33m)\u001b[0m\u001b[1;33m:\u001b[0m         \u001b[1;31m## TODO implement warning if not availible\u001b[0m\u001b[1;33m\u001b[0m\u001b[1;33m\u001b[0m\u001b[0m\n\u001b[0;32m    126\u001b[0m         \u001b[0mfilename\u001b[0m \u001b[1;33m=\u001b[0m \u001b[0mwebAddressToFilename\u001b[0m\u001b[1;33m(\u001b[0m\u001b[0mself\u001b[0m\u001b[1;33m.\u001b[0m\u001b[0moutdir\u001b[0m \u001b[1;33m+\u001b[0m \u001b[0mloc\u001b[0m \u001b[1;33m+\u001b[0m \u001b[0msuffix\u001b[0m\u001b[1;33m)\u001b[0m\u001b[1;33m\u001b[0m\u001b[1;33m\u001b[0m\u001b[0m\n\u001b[1;32m--> 127\u001b[1;33m         \u001b[1;32mwith\u001b[0m \u001b[0mopen\u001b[0m\u001b[1;33m(\u001b[0m\u001b[0mfilename\u001b[0m\u001b[1;33m)\u001b[0m \u001b[1;32mas\u001b[0m \u001b[0mjson_file\u001b[0m\u001b[1;33m:\u001b[0m\u001b[1;33m\u001b[0m\u001b[1;33m\u001b[0m\u001b[0m\n\u001b[0m\u001b[0;32m    128\u001b[0m             \u001b[0mdata\u001b[0m \u001b[1;33m=\u001b[0m \u001b[0mjson\u001b[0m\u001b[1;33m.\u001b[0m\u001b[0mload\u001b[0m\u001b[1;33m(\u001b[0m\u001b[0mjson_file\u001b[0m\u001b[1;33m)\u001b[0m\u001b[1;33m\u001b[0m\u001b[1;33m\u001b[0m\u001b[0m\n\u001b[0;32m    129\u001b[0m         \u001b[1;32mreturn\u001b[0m \u001b[0mdata\u001b[0m\u001b[1;33m\u001b[0m\u001b[1;33m\u001b[0m\u001b[0m\n",
      "\u001b[1;31mFileNotFoundError\u001b[0m: [Errno 2] No such file or directory: 'data/raw/tokyo2019/regattas.json'"
     ]
    }
   ],
   "source": [
    "c = combineData()\n",
    "dataframes = c.combineFiles(filenames = AllFilenames)\n"
   ]
  }
 ],
 "metadata": {
  "kernelspec": {
   "display_name": "Python 3",
   "language": "python",
   "name": "python3"
  },
  "language_info": {
   "codemirror_mode": {
    "name": "ipython",
    "version": 3
   },
   "file_extension": ".py",
   "mimetype": "text/x-python",
   "name": "python",
   "nbconvert_exporter": "python",
   "pygments_lexer": "ipython3",
   "version": "3.7.1"
  }
 },
 "nbformat": 4,
 "nbformat_minor": 2
}
