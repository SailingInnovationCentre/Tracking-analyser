{
 "cells": [
  {
   "cell_type": "code",
   "execution_count": 14,
   "metadata": {},
   "outputs": [],
   "source": [
    "import pyodbc\n",
    "\n",
    "server = 'sic-match-analysis.database.windows.net'\n",
    "database = 'match-analysis'\n",
    "username = 'sic-admin'\n",
    "password = 'ZeilenIsLeuk!'\n",
    "driver= '{ODBC Driver 17 for SQL Server}'\n",
    "cnxn = pyodbc.connect('DRIVER='+driver+';SERVER='+server+';PORT=1433;DATABASE='+database+';UID='+username+';PWD='+ password)\n",
    "\n",
    "\n",
    "cursor = cnxn.cursor()"
   ]
  },
  {
   "cell_type": "code",
   "execution_count": 2,
   "metadata": {},
   "outputs": [
    {
     "ename": "ProgrammingError",
     "evalue": "('42S01', \"[42S01] [Microsoft][ODBC Driver 17 for SQL Server][SQL Server]There is already an object named 'regattas' in the database. (2714) (SQLExecDirectW)\")",
     "output_type": "error",
     "traceback": [
      "\u001b[1;31m---------------------------------------------------------------------------\u001b[0m",
      "\u001b[1;31mProgrammingError\u001b[0m                          Traceback (most recent call last)",
      "\u001b[1;32m<ipython-input-2-23a2525150fa>\u001b[0m in \u001b[0;36m<module>\u001b[1;34m\u001b[0m\n\u001b[0;32m      8\u001b[0m \u001b[0mCREATE\u001b[0m \u001b[0mINDEX\u001b[0m \u001b[0midx\u001b[0m \u001b[0mON\u001b[0m \u001b[0mregattas\u001b[0m \u001b[1;33m(\u001b[0m\u001b[0mregatta\u001b[0m\u001b[1;33m)\u001b[0m\u001b[1;33m;\u001b[0m\u001b[1;33m\u001b[0m\u001b[1;33m\u001b[0m\u001b[0m\n\u001b[0;32m      9\u001b[0m \u001b[1;33m\u001b[0m\u001b[0m\n\u001b[1;32m---> 10\u001b[1;33m \"\"\")\n\u001b[0m",
      "\u001b[1;31mProgrammingError\u001b[0m: ('42S01', \"[42S01] [Microsoft][ODBC Driver 17 for SQL Server][SQL Server]There is already an object named 'regattas' in the database. (2714) (SQLExecDirectW)\")"
     ]
    }
   ],
   "source": [
    "# TABLE 1\n",
    "cursor.execute(\"\"\"\n",
    "CREATE TABLE regattas\n",
    "(regatta varchar(50) PRIMARY KEY,\n",
    "boatclass varchar(50) NULL,\n",
    "courseAreaId nvarchar(40) NULL)\n",
    "\n",
    "CREATE INDEX idx ON regattas (regatta);\n",
    "\n",
    "\"\"\")"
   ]
  },
  {
   "cell_type": "code",
   "execution_count": null,
   "metadata": {},
   "outputs": [],
   "source": [
    "# TABLE 2\n",
    "cursor.execute(\"\"\"\n",
    "CREATE TABLE races\n",
    "(regatta varchar(50) NOT NULL,\n",
    "race varchar(50) NOT NULL,\n",
    "raceShort varchar(50) NOT NULL,\n",
    "raceId binary(16) NOT NULL,\n",
    "maxWindSpd_kts decimal(10,2) NULL,\n",
    "minWindSpd_kts decimal(10,2) NULL,\n",
    "avgWindDir_deg decimal(10,2) NULL,\n",
    "firstlegbearing_deg decimal(10,2) NULL,\n",
    "course_area_id int NULL,\n",
    "nr_competitors int NULL\n",
    ")\n",
    "\n",
    "CREATE UNIQUE CLUSTERED INDEX idx_rac ON races (regatta, race);\n",
    "CREATE INDEX idx_reg ON races (regatta);\n",
    "\n",
    "\"\"\")\n"
   ]
  },
  {
   "cell_type": "code",
   "execution_count": null,
   "metadata": {},
   "outputs": [],
   "source": [
    "# TABLE 3\n",
    "cursor.execute(\"\"\"\n",
    "CREATE TABLE competitors\n",
    "(regatta varchar(50) NOT NULL,\n",
    "comp_id binary(16) NOT NULL,\n",
    "comp_name varchar(100) NULL,\n",
    "nationality varchar(3) NULL,\n",
    "sailId varchar(10) NULL,\n",
    "[Speed (kts) (Average)] decimal(10,2) NULL,\n",
    "[Speed (kts) (Average) UPWIND] decimal(10,2) NULL,\n",
    "[Speed (kts) (Average) DOWNWIND] decimal(10,2) NULL,\n",
    "[Speed (kts) (Average) REACHING] decimal(10,2) NULL,\n",
    "[Distance Traveled (Sum)] decimal(10,2) NULL,\n",
    "[Distance Traveled (Sum) UPWIND] decimal(10,2) NULL,\n",
    "[Distance Traveled (Sum) DOWNWIND] decimal(10,2) NULL,\n",
    "[Distance Traveled (Sum) REACHING] decimal(10,2) NULL,\n",
    "[Speed (kts) (Average) null] decimal(10,2) NULL,\n",
    "[Distance Traveled (Sum) null] decimal(10,2) NULL,\n",
    "overall_rank int NULL,\n",
    "[Number of Maneuvers (Sum)] decimal(10,2) NULL\n",
    ")\n",
    "\n",
    "CREATE UNIQUE CLUSTERED INDEX idx ON competitors (regatta, comp_id);\n",
    "\"\"\")"
   ]
  },
  {
   "cell_type": "code",
   "execution_count": null,
   "metadata": {},
   "outputs": [],
   "source": [
    "# TABLE 4\n",
    "cursor.execute(\"\"\"\n",
    "CREATE TABLE wind\n",
    "(regatta varchar(50) NOT NULL,\n",
    "race varchar(50) NOT NULL,\n",
    "[timepoint-ms] bigint NOT NULL,\n",
    "[lat-deg] decimal(20,10) NULL,\n",
    "[lng-deg] decimal(20,10) NULL,\n",
    "[speed-kts] decimal(5,2) NULL,\n",
    "[trueBearing-deg] decimal(5,2) NULL,\n",
    "[dampenedSpeed-kts] decimal(5,2) NULL,\n",
    "[dampenedTrueBearing-deg] decimal(5,2) NULL)\n",
    "\n",
    "CREATE UNIQUE CLUSTERED INDEX idx ON wind (regatta, race, [timepoint-ms], [lat-deg], [lng-deg]);\n",
    "CREATE INDEX idx_race ON wind (regatta, race);\n",
    "\n",
    "\n",
    "\"\"\")"
   ]
  },
  {
   "cell_type": "code",
   "execution_count": 1,
   "metadata": {},
   "outputs": [
    {
     "ename": "NameError",
     "evalue": "name 'cursor' is not defined",
     "output_type": "error",
     "traceback": [
      "\u001b[1;31m---------------------------------------------------------------------------\u001b[0m",
      "\u001b[1;31mNameError\u001b[0m                                 Traceback (most recent call last)",
      "\u001b[1;32m<ipython-input-1-f5ad6abd23b4>\u001b[0m in \u001b[0;36m<module>\u001b[1;34m\u001b[0m\n\u001b[0;32m      1\u001b[0m \u001b[1;31m# TABLE 5\u001b[0m\u001b[1;33m\u001b[0m\u001b[1;33m\u001b[0m\u001b[1;33m\u001b[0m\u001b[0m\n\u001b[1;32m----> 2\u001b[1;33m cursor.execute(\"\"\"\n\u001b[0m\u001b[0;32m      3\u001b[0m \u001b[0mCREATE\u001b[0m \u001b[0mTABLE\u001b[0m \u001b[0mlegs\u001b[0m\u001b[1;33m\u001b[0m\u001b[1;33m\u001b[0m\u001b[0m\n\u001b[0;32m      4\u001b[0m (regatta varchar(50) NOT NULL,\n\u001b[0;32m      5\u001b[0m \u001b[0mrace\u001b[0m \u001b[0mvarchar\u001b[0m\u001b[1;33m(\u001b[0m\u001b[1;36m50\u001b[0m\u001b[1;33m)\u001b[0m \u001b[0mNOT\u001b[0m \u001b[0mNULL\u001b[0m\u001b[1;33m,\u001b[0m\u001b[1;33m\u001b[0m\u001b[1;33m\u001b[0m\u001b[0m\n",
      "\u001b[1;31mNameError\u001b[0m: name 'cursor' is not defined"
     ]
    }
   ],
   "source": [
    "# TABLE 5\n",
    "cursor.execute(\"\"\"\n",
    "CREATE TABLE legs\n",
    "(regatta varchar(50) NOT NULL,\n",
    "race varchar(50) NOT NULL,\n",
    "leg_nr int NOT NULL,\n",
    "fromWaypointId binary(16) NULL,\n",
    "toWaypointId binary(16) NULL,\n",
    "[to] varchar(20) NULL,\n",
    "[from] varchar(20) NULL,\n",
    "upOrDownwindLeg bit NULL,\n",
    "leg_nr_from_finish int NULL,\n",
    "distance decimal(20,2) NULL,\n",
    "correlation_tacks decimal(5,4),\n",
    "correlation_side decimal(5,4),\n",
    "correlation_avgSOG decimal(5,4),\n",
    "correlation_traveledDistance decimal(5,4),\n",
    "correlation_jibes decimal(5,4)\n",
    ")\n",
    "\n",
    "\n",
    "CREATE UNIQUE INDEX idx ON legs (regatta, race, leg_nr);\n",
    "\n",
    "\"\"\")"
   ]
  },
  {
   "cell_type": "code",
   "execution_count": null,
   "metadata": {},
   "outputs": [],
   "source": [
    "# TABLE 6\n",
    "cursor.execute(\"\"\"\n",
    "CREATE TABLE race_comp\n",
    "(regatta varchar(50) NOT NULL,\n",
    "race varchar(50) NOT NULL,\n",
    "comp_id binary(16) NOT NULL,\n",
    "rank int NULL)\n",
    "\n",
    "CREATE UNIQUE CLUSTERED INDEX idx ON race_comp (regatta, race, comp_id);\n",
    "CREATE INDEX idx_race ON race_comp (regatta, race);\n",
    "CREATE INDEX idx_comp ON race_comp (regatta, comp_id);\n",
    "\n",
    "\"\"\")"
   ]
  },
  {
   "cell_type": "code",
   "execution_count": null,
   "metadata": {},
   "outputs": [],
   "source": [
    "# TABLE 7\n",
    "cursor.execute(\"\"\"\n",
    "CREATE TABLE comp_leg\n",
    "(regatta varchar(50) NOT NULL,\n",
    "race varchar(50) NOT NULL,\n",
    "leg_nr int NOT NULL,\n",
    "comp_id binary(16) NOT NULL,\n",
    "[competitor_distanceTraveled-m] decimal(10,2) NULL,\n",
    "[competitor_averageSOG-kts] decimal(5,2) NULL,\n",
    "competitor_tacks int NULL,\n",
    "competitor_jibes int NULL,\n",
    "competitor_penaltyCircles int NULL,\n",
    "competitor_rank int NULL,\n",
    "[competitor_gapToLeader-s] decimal(10,2) NULL,\n",
    "[competitor_gapToLeader-m] decimal(10,2) NULL,\n",
    "competitor_started bit NULL,\n",
    "competitor_finished bit NULL,\n",
    "avg_side decimal(5,2) NULL,\n",
    "most_left decimal(5,2) NULL,\n",
    "most_right decimal(5,2) NULL,\n",
    "rel_rank decimal(3,2) NULL\n",
    ")\n",
    "\n",
    "CREATE UNIQUE CLUSTERED INDEX idx ON comp_leg (regatta, race, leg_nr, comp_id);\n",
    "CREATE INDEX idx_rac_com ON comp_leg (regatta, race, comp_id);\n",
    "CREATE INDEX idx_leg ON comp_leg (regatta, race, leg_nr);\n",
    "\n",
    "\"\"\")"
   ]
  },
  {
   "cell_type": "code",
   "execution_count": 9,
   "metadata": {},
   "outputs": [
    {
     "data": {
      "text/plain": [
       "<pyodbc.Cursor at 0x1fab94a0b70>"
      ]
     },
     "execution_count": 9,
     "metadata": {},
     "output_type": "execute_result"
    }
   ],
   "source": [
    "# TABLE 8\n",
    "cursor.execute(\"\"\"\n",
    "CREATE TABLE positions\n",
    "(regatta varchar(50) NOT NULL,\n",
    "race varchar(50) NOT NULL,\n",
    "leg_nr int NULL,\n",
    "comp_id binary(16) NOT NULL,\n",
    "timepoint_ms bigint NOT NULL,\n",
    "[lat-deg] decimal(20,10) NULL,\n",
    "[lng-deg] decimal(20,10) NULL,\n",
    "[speed-kts] decimal(10,2) NULL,\n",
    "[truebearing-deg] decimal(10,2) NULL,\n",
    "calculated_windSpd decimal(10,2) NULL,\n",
    "calculated_windDir decimal(10,2) NULL\n",
    ")\n",
    "\n",
    "CREATE UNIQUE CLUSTERED INDEX idx ON positions (regatta, race, leg_nr, comp_id, timepoint_ms ASC);\n",
    "CREATE NONCLUSTERED INDEX idx_legnr ON positions (leg_nr) \n",
    "CREATE INDEX idx_leg ON positions (regatta, race, leg_nr, comp_id);\n",
    "CREATE INDEX idx_comp ON positions (regatta, race, comp_id)\n",
    "\"\"\")"
   ]
  },
  {
   "cell_type": "code",
   "execution_count": 4,
   "metadata": {},
   "outputs": [
    {
     "ename": "ProgrammingError",
     "evalue": "('42S01', \"[42S01] [Microsoft][ODBC Driver 17 for SQL Server][SQL Server]There is already an object named 'marks' in the database. (2714) (SQLExecDirectW)\")",
     "output_type": "error",
     "traceback": [
      "\u001b[1;31m---------------------------------------------------------------------------\u001b[0m",
      "\u001b[1;31mProgrammingError\u001b[0m                          Traceback (most recent call last)",
      "\u001b[1;32m<ipython-input-4-597ed502ba09>\u001b[0m in \u001b[0;36m<module>\u001b[1;34m\u001b[0m\n\u001b[0;32m     14\u001b[0m \u001b[0mCREATE\u001b[0m \u001b[0mUNIQUE\u001b[0m \u001b[0mINDEX\u001b[0m \u001b[0midx\u001b[0m \u001b[0mON\u001b[0m \u001b[0mmarks\u001b[0m \u001b[1;33m(\u001b[0m\u001b[0mregatta\u001b[0m\u001b[1;33m,\u001b[0m \u001b[0mrace\u001b[0m\u001b[1;33m,\u001b[0m \u001b[0mwaypointId\u001b[0m\u001b[1;33m)\u001b[0m\u001b[1;33m;\u001b[0m\u001b[1;33m\u001b[0m\u001b[1;33m\u001b[0m\u001b[0m\n\u001b[0;32m     15\u001b[0m \u001b[1;33m\u001b[0m\u001b[0m\n\u001b[1;32m---> 16\u001b[1;33m \"\"\")\n\u001b[0m\u001b[0;32m     17\u001b[0m \u001b[1;33m\u001b[0m\u001b[0m\n",
      "\u001b[1;31mProgrammingError\u001b[0m: ('42S01', \"[42S01] [Microsoft][ODBC Driver 17 for SQL Server][SQL Server]There is already an object named 'marks' in the database. (2714) (SQLExecDirectW)\")"
     ]
    }
   ],
   "source": [
    "# TABLE 9\n",
    "cursor.execute(\"\"\"\n",
    "CREATE TABLE marks\n",
    "(regatta varchar(50) NOT NULL,\n",
    "race varchar(50) NOT NULL,\n",
    "waypointId varchar(50) NOT NULL,\n",
    "lat decimal(20) NULL,\n",
    "lon decimal(20) NULL,\n",
    "waypointName text NULL\n",
    ")\n",
    "\n",
    "\n",
    "\n",
    "CREATE UNIQUE INDEX idx ON marks (regatta, race, waypointId);\n",
    "\n",
    "\"\"\")\n",
    "\n"
   ]
  },
  {
   "cell_type": "code",
   "execution_count": 3,
   "metadata": {},
   "outputs": [
    {
     "data": {
      "text/plain": [
       "<pyodbc.Cursor at 0x171a7edb7b0>"
      ]
     },
     "execution_count": 3,
     "metadata": {},
     "output_type": "execute_result"
    }
   ],
   "source": [
    "cursor.execute(\"\"\"\n",
    "CREATE TABLE course_areas (\n",
    "\tid int,\n",
    "    course_area varchar(20),\n",
    "    [lat-deg] decimal(10,7),\n",
    "    [lng-deg] decimal(10,7)\n",
    "    );\n",
    "\n",
    "CREATE UNIQUE INDEX idx ON course_areas (id)\n",
    "\n",
    "INSERT INTO course_areas(id, course_area, lat, lon)\n",
    "VALUES (1, 'Enoshima', 35.1756, 139.2951),\n",
    "(2, 'Fujisawa',35.1583, 139.2920),\n",
    "(3, 'Kamakura', 35.1744, 139.3079),\n",
    "(4, 'Sagami', 35.1513, 139.3103),\n",
    "(5, 'Zushi', 35.1621, 139.3239),\n",
    "(6, 'Hayama', 35.1441, 139.3285)\n",
    "\"\"\")"
   ]
  },
  {
   "cell_type": "code",
   "execution_count": 17,
   "metadata": {},
   "outputs": [
    {
     "ename": "ProgrammingError",
     "evalue": "('42S01', \"[42S01] [Microsoft][ODBC Driver 17 for SQL Server][SQL Server]There is already an object named 'FK_races_regattas' in the database. (2714) (SQLExecDirectW); [42S01] [Microsoft][ODBC Driver 17 for SQL Server][SQL Server]Could not create constraint or index. See previous errors. (1750)\")",
     "output_type": "error",
     "traceback": [
      "\u001b[1;31m---------------------------------------------------------------------------\u001b[0m",
      "\u001b[1;31mProgrammingError\u001b[0m                          Traceback (most recent call last)",
      "\u001b[1;32m<ipython-input-17-e0e530cb2628>\u001b[0m in \u001b[0;36m<module>\u001b[1;34m\u001b[0m\n\u001b[0;32m      8\u001b[0m       \u001b[0mON\u001b[0m \u001b[0mUPDATE\u001b[0m \u001b[0mCASCADE\u001b[0m\u001b[1;33m\u001b[0m\u001b[1;33m\u001b[0m\u001b[0m\n\u001b[0;32m      9\u001b[0m \u001b[1;33m;\u001b[0m\u001b[1;33m\u001b[0m\u001b[1;33m\u001b[0m\u001b[0m\n\u001b[1;32m---> 10\u001b[1;33m \"\"\")\n\u001b[0m",
      "\u001b[1;31mProgrammingError\u001b[0m: ('42S01', \"[42S01] [Microsoft][ODBC Driver 17 for SQL Server][SQL Server]There is already an object named 'FK_races_regattas' in the database. (2714) (SQLExecDirectW); [42S01] [Microsoft][ODBC Driver 17 for SQL Server][SQL Server]Could not create constraint or index. See previous errors. (1750)\")"
     ]
    }
   ],
   "source": [
    "# Relation 1\n",
    "\n",
    "cursor.execute(\"\"\"\n",
    "ALTER TABLE races\n",
    "   ADD CONSTRAINT FK_races_regattas FOREIGN KEY (regatta)\n",
    "      REFERENCES regattas (regatta)\n",
    "      ON DELETE CASCADE\n",
    "      ON UPDATE CASCADE\n",
    ";\n",
    "\"\"\")"
   ]
  },
  {
   "cell_type": "code",
   "execution_count": 19,
   "metadata": {},
   "outputs": [
    {
     "ename": "ProgrammingError",
     "evalue": "('42S01', \"[42S01] [Microsoft][ODBC Driver 17 for SQL Server][SQL Server]There is already an object named 'FK_comp_regattas' in the database. (2714) (SQLExecDirectW); [42S01] [Microsoft][ODBC Driver 17 for SQL Server][SQL Server]Could not create constraint or index. See previous errors. (1750)\")",
     "output_type": "error",
     "traceback": [
      "\u001b[1;31m---------------------------------------------------------------------------\u001b[0m",
      "\u001b[1;31mProgrammingError\u001b[0m                          Traceback (most recent call last)",
      "\u001b[1;32m<ipython-input-19-4be653cf4733>\u001b[0m in \u001b[0;36m<module>\u001b[1;34m\u001b[0m\n\u001b[0;32m      8\u001b[0m       \u001b[0mON\u001b[0m \u001b[0mUPDATE\u001b[0m \u001b[0mCASCADE\u001b[0m\u001b[1;33m\u001b[0m\u001b[1;33m\u001b[0m\u001b[0m\n\u001b[0;32m      9\u001b[0m \u001b[1;33m;\u001b[0m\u001b[1;33m\u001b[0m\u001b[1;33m\u001b[0m\u001b[0m\n\u001b[1;32m---> 10\u001b[1;33m \"\"\")\n\u001b[0m",
      "\u001b[1;31mProgrammingError\u001b[0m: ('42S01', \"[42S01] [Microsoft][ODBC Driver 17 for SQL Server][SQL Server]There is already an object named 'FK_comp_regattas' in the database. (2714) (SQLExecDirectW); [42S01] [Microsoft][ODBC Driver 17 for SQL Server][SQL Server]Could not create constraint or index. See previous errors. (1750)\")"
     ]
    }
   ],
   "source": [
    "# Relation 2\n",
    "\n",
    "cursor.execute(\"\"\"\n",
    "ALTER TABLE competitors\n",
    "   ADD CONSTRAINT FK_comp_regattas FOREIGN KEY (regatta)\n",
    "      REFERENCES regattas (regatta)\n",
    "      ON DELETE CASCADE\n",
    "      ON UPDATE CASCADE\n",
    ";\n",
    "\"\"\")"
   ]
  },
  {
   "cell_type": "code",
   "execution_count": 20,
   "metadata": {},
   "outputs": [
    {
     "ename": "ProgrammingError",
     "evalue": "('42S01', \"[42S01] [Microsoft][ODBC Driver 17 for SQL Server][SQL Server]There is already an object named 'FK_regatta_race_wind' in the database. (2714) (SQLExecDirectW); [42S01] [Microsoft][ODBC Driver 17 for SQL Server][SQL Server]Could not create constraint or index. See previous errors. (1750)\")",
     "output_type": "error",
     "traceback": [
      "\u001b[1;31m---------------------------------------------------------------------------\u001b[0m",
      "\u001b[1;31mProgrammingError\u001b[0m                          Traceback (most recent call last)",
      "\u001b[1;32m<ipython-input-20-f6f119bbf722>\u001b[0m in \u001b[0;36m<module>\u001b[1;34m\u001b[0m\n\u001b[0;32m      7\u001b[0m       \u001b[0mON\u001b[0m \u001b[0mDELETE\u001b[0m \u001b[0mCASCADE\u001b[0m\u001b[1;33m\u001b[0m\u001b[1;33m\u001b[0m\u001b[0m\n\u001b[0;32m      8\u001b[0m       \u001b[0mON\u001b[0m \u001b[0mUPDATE\u001b[0m \u001b[0mCASCADE\u001b[0m\u001b[1;33m\u001b[0m\u001b[1;33m\u001b[0m\u001b[0m\n\u001b[1;32m----> 9\u001b[1;33m \"\"\")\n\u001b[0m",
      "\u001b[1;31mProgrammingError\u001b[0m: ('42S01', \"[42S01] [Microsoft][ODBC Driver 17 for SQL Server][SQL Server]There is already an object named 'FK_regatta_race_wind' in the database. (2714) (SQLExecDirectW); [42S01] [Microsoft][ODBC Driver 17 for SQL Server][SQL Server]Could not create constraint or index. See previous errors. (1750)\")"
     ]
    }
   ],
   "source": [
    "# Relation 3\n",
    "\n",
    "cursor.execute(\"\"\"\n",
    "ALTER TABLE wind\n",
    "   ADD CONSTRAINT FK_regatta_race_wind FOREIGN KEY (regatta, race)\n",
    "      REFERENCES races (regatta, race)\n",
    "      ON DELETE CASCADE\n",
    "      ON UPDATE CASCADE\n",
    "\"\"\")"
   ]
  },
  {
   "cell_type": "code",
   "execution_count": 21,
   "metadata": {},
   "outputs": [
    {
     "ename": "ProgrammingError",
     "evalue": "('42S01', \"[42S01] [Microsoft][ODBC Driver 17 for SQL Server][SQL Server]There is already an object named 'FK_legs_races' in the database. (2714) (SQLExecDirectW); [42S01] [Microsoft][ODBC Driver 17 for SQL Server][SQL Server]Could not create constraint or index. See previous errors. (1750)\")",
     "output_type": "error",
     "traceback": [
      "\u001b[1;31m---------------------------------------------------------------------------\u001b[0m",
      "\u001b[1;31mProgrammingError\u001b[0m                          Traceback (most recent call last)",
      "\u001b[1;32m<ipython-input-21-f05d69884630>\u001b[0m in \u001b[0;36m<module>\u001b[1;34m\u001b[0m\n\u001b[0;32m      7\u001b[0m       \u001b[0mON\u001b[0m \u001b[0mDELETE\u001b[0m \u001b[0mCASCADE\u001b[0m\u001b[1;33m\u001b[0m\u001b[1;33m\u001b[0m\u001b[0m\n\u001b[0;32m      8\u001b[0m       \u001b[0mON\u001b[0m \u001b[0mUPDATE\u001b[0m \u001b[0mCASCADE\u001b[0m\u001b[1;33m\u001b[0m\u001b[1;33m\u001b[0m\u001b[0m\n\u001b[1;32m----> 9\u001b[1;33m \"\"\")\n\u001b[0m",
      "\u001b[1;31mProgrammingError\u001b[0m: ('42S01', \"[42S01] [Microsoft][ODBC Driver 17 for SQL Server][SQL Server]There is already an object named 'FK_legs_races' in the database. (2714) (SQLExecDirectW); [42S01] [Microsoft][ODBC Driver 17 for SQL Server][SQL Server]Could not create constraint or index. See previous errors. (1750)\")"
     ]
    }
   ],
   "source": [
    "# Relation 4\n",
    "\n",
    "cursor.execute(\"\"\"\n",
    "ALTER TABLE legs\n",
    "   ADD CONSTRAINT FK_legs_races FOREIGN KEY (regatta, race)\n",
    "      REFERENCES races (regatta, race)\n",
    "      ON DELETE CASCADE\n",
    "      ON UPDATE CASCADE\n",
    "\"\"\")"
   ]
  },
  {
   "cell_type": "code",
   "execution_count": 22,
   "metadata": {},
   "outputs": [
    {
     "ename": "ProgrammingError",
     "evalue": "('42S01', \"[42S01] [Microsoft][ODBC Driver 17 for SQL Server][SQL Server]There is already an object named 'FK_race_comp_races' in the database. (2714) (SQLExecDirectW); [42S01] [Microsoft][ODBC Driver 17 for SQL Server][SQL Server]Could not create constraint or index. See previous errors. (1750)\")",
     "output_type": "error",
     "traceback": [
      "\u001b[1;31m---------------------------------------------------------------------------\u001b[0m",
      "\u001b[1;31mProgrammingError\u001b[0m                          Traceback (most recent call last)",
      "\u001b[1;32m<ipython-input-22-43d9e08641a1>\u001b[0m in \u001b[0;36m<module>\u001b[1;34m\u001b[0m\n\u001b[0;32m      8\u001b[0m       \u001b[0mON\u001b[0m \u001b[0mDELETE\u001b[0m \u001b[0mCASCADE\u001b[0m\u001b[1;33m\u001b[0m\u001b[1;33m\u001b[0m\u001b[0m\n\u001b[0;32m      9\u001b[0m       \u001b[0mON\u001b[0m \u001b[0mUPDATE\u001b[0m \u001b[0mCASCADE\u001b[0m\u001b[1;33m\u001b[0m\u001b[1;33m\u001b[0m\u001b[0m\n\u001b[1;32m---> 10\u001b[1;33m \"\"\")\n\u001b[0m",
      "\u001b[1;31mProgrammingError\u001b[0m: ('42S01', \"[42S01] [Microsoft][ODBC Driver 17 for SQL Server][SQL Server]There is already an object named 'FK_race_comp_races' in the database. (2714) (SQLExecDirectW); [42S01] [Microsoft][ODBC Driver 17 for SQL Server][SQL Server]Could not create constraint or index. See previous errors. (1750)\")"
     ]
    }
   ],
   "source": [
    "# Relation 5&6\n",
    "cursor.execute(\"\"\"\n",
    "ALTER TABLE race_comp\n",
    "   ADD CONSTRAINT FK_race_comp_races FOREIGN KEY (regatta, race)\n",
    "      REFERENCES races (regatta, race),\n",
    "    CONSTRAINT FK_race_comp_competitors FOREIGN KEY(regatta, comp_id)\n",
    "      REFERENCES competitors (regatta, comp_id)\n",
    "      ON DELETE CASCADE\n",
    "      ON UPDATE CASCADE\n",
    "\"\"\")"
   ]
  },
  {
   "cell_type": "code",
   "execution_count": null,
   "metadata": {},
   "outputs": [],
   "source": [
    "# Relation 7&8\n",
    "\n",
    "cursor.execute(\"\"\"\n",
    "ALTER TABLE comp_leg\n",
    "   ADD CONSTRAINT FK_comp_leg_race_comp FOREIGN KEY (regatta, race, comp_id)\n",
    "      REFERENCES race_comp (regatta, race,  comp_id),\n",
    "      CONSTRAINT FK_comp_leg_legs FOREIGN KEY (regatta, race, leg_nr)\n",
    "      REFERENCES legs (regatta, race, leg_nr)\n",
    "      ON DELETE CASCADE\n",
    "      ON UPDATE CASCADE\n",
    "\"\"\")"
   ]
  },
  {
   "cell_type": "code",
   "execution_count": 11,
   "metadata": {},
   "outputs": [
    {
     "data": {
      "text/plain": [
       "<pyodbc.Cursor at 0x1fab94a0b70>"
      ]
     },
     "execution_count": 11,
     "metadata": {},
     "output_type": "execute_result"
    }
   ],
   "source": [
    "# Relation 9\n",
    "cursor.execute(\"\"\"\n",
    "ALTER TABLE positions\n",
    "   ADD CONSTRAINT FK_positions_race_comp FOREIGN KEY (regatta, race, comp_id)\n",
    "      REFERENCES race_comp (regatta, race, comp_id)\n",
    "      ON DELETE CASCADE\n",
    "      ON UPDATE CASCADE,\n",
    "   CONSTRAINT FK_positions_comp_leg FOREIGN KEY (regatta, race, leg_nr, comp_id)\n",
    "     REFERENCES comp_leg (regatta, race, leg_nr, comp_id)\n",
    "\"\"\")"
   ]
  },
  {
   "cell_type": "code",
   "execution_count": null,
   "metadata": {},
   "outputs": [],
   "source": [
    "### Markpassings, to update legnr_columnn in positions\n",
    "\n",
    "cursor.execute(\"\"\"\n",
    "CREATE TABLE temp_markpassings\n",
    "(regatta varchar(50) NOT NULL,\n",
    "race varchar(50) NOT NULL,\n",
    "comp_id binar(16) NOT NULL,\n",
    "leg_nr int NOT NULL,\n",
    "begin_leg_ms bigint NULL,\n",
    "end_leg_ms bigint NULL\n",
    "\n",
    ")\n",
    "\n",
    "CREATE UNIQUE INDEX idx ON temp_markpassings (regatta, race, leg_nr, comp_id);\n",
    "CREATE CLUSTERED INDEX idx_2 ON temp_markpassings (regatta, race, comp_id);\n",
    "\n",
    "\"\"\")"
   ]
  },
  {
   "cell_type": "code",
   "execution_count": null,
   "metadata": {},
   "outputs": [],
   "source": [
    "cursor.execute(\"\"\"\n",
    "ALTER TABLE temp_markpassings\n",
    "ADD CONSTRAINT fk_temp_markpassings_comp_leg FOREIGN KEY (regatta, race, leg_nr, comp_id)\n",
    "      REFERENCES comp_leg (regatta, race, leg_nr, comp_id)\n",
    "      ON DELETE CASCADE\n",
    "      ON UPDATE CASCADE\n",
    "\"\"\")"
   ]
  },
  {
   "cell_type": "code",
   "execution_count": 6,
   "metadata": {},
   "outputs": [
    {
     "data": {
      "text/plain": [
       "<pyodbc.Cursor at 0x171a7edb7b0>"
      ]
     },
     "execution_count": 6,
     "metadata": {},
     "output_type": "execute_result"
    }
   ],
   "source": [
    "cursor.execute(\"\"\"\n",
    "ALTER TABLE races\n",
    "ADD CONSTRAINT fk_races_course_areas FOREIGN KEY (course_area_id)\n",
    "      REFERENCES course_areas (id)\n",
    "      ON DELETE CASCADE\n",
    "      ON UPDATE CASCADE\n",
    "\"\"\")"
   ]
  },
  {
   "cell_type": "code",
   "execution_count": null,
   "metadata": {},
   "outputs": [],
   "source": [
    "### Markpassings, to update legnr_columnn in positions\n",
    "\n",
    "cursor.execute(\"\"\"\n",
    "DROP TABLE temp_markpassings\n",
    "CREATE TABLE temp_markpassings\n",
    "(regatta varchar(50) NOT NULL,\n",
    "race varchar(50) NOT NULL,\n",
    "comp_id binary(16) NOT NULL,\n",
    "leg_nr int NOT NULL,\n",
    "begin_leg_ms bigint NULL,\n",
    "end_leg_ms bigint NULL\n",
    "\n",
    ")\n",
    "\n",
    "CREATE UNIQUE INDEX idx ON temp_markpassings (regatta, race, leg_nr, comp_id);\n",
    "CREATE CLUSTERED INDEX idx_2 ON temp_markpassings (regatta, race, comp_id);\n",
    "\n",
    "\"\"\")\n",
    "\n",
    "cursor.execute(\"\"\"\n",
    "ALTER TABLE temp_markpassings\n",
    "ADD CONSTRAINT fk_temp_markpassings_comp_leg FOREIGN KEY (regatta, race, leg_nr, comp_id)\n",
    "      REFERENCES comp_leg (regatta, race, leg_nr, comp_id)\n",
    "      ON DELETE CASCADE\n",
    "      ON UPDATE CASCADE\n",
    "\"\"\")"
   ]
  },
  {
   "cell_type": "code",
   "execution_count": 16,
   "metadata": {},
   "outputs": [],
   "source": [
    "cnxn.commit()"
   ]
  }
 ],
 "metadata": {
  "kernelspec": {
   "display_name": "Python 3",
   "language": "python",
   "name": "python3"
  },
  "language_info": {
   "codemirror_mode": {
    "name": "ipython",
    "version": 3
   },
   "file_extension": ".py",
   "mimetype": "text/x-python",
   "name": "python",
   "nbconvert_exporter": "python",
   "pygments_lexer": "ipython3",
   "version": "3.7.1"
  }
 },
 "nbformat": 4,
 "nbformat_minor": 2
}
